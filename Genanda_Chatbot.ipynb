{
  "nbformat": 4,
  "nbformat_minor": 0,
  "metadata": {
    "colab": {
      "name": "Genanda_Chatbot",
      "provenance": [],
      "collapsed_sections": [],
      "authorship_tag": "ABX9TyPwH6ehgk1DcrAsUC3elLLy",
      "include_colab_link": true
    },
    "kernelspec": {
      "name": "python3",
      "display_name": "Python 3"
    },
    "language_info": {
      "name": "python"
    }
  },
  "cells": [
    {
      "cell_type": "markdown",
      "metadata": {
        "id": "view-in-github",
        "colab_type": "text"
      },
      "source": [
        "<a href=\"https://colab.research.google.com/github/nenebanee24/ICT120_BSCS3B/blob/main/Genanda_Chatbot.ipynb\" target=\"_parent\"><img src=\"https://colab.research.google.com/assets/colab-badge.svg\" alt=\"Open In Colab\"/></a>"
      ]
    },
    {
      "cell_type": "code",
      "metadata": {
        "colab": {
          "base_uri": "https://localhost:8080/"
        },
        "id": "v_W6dtfuqc9S",
        "outputId": "851ad636-f831-4306-b570-a4247d8d1e41"
      },
      "source": [
        "# Importing modules\n",
        "\n",
        "import re\n",
        "from nltk.corpus import wordnet\n",
        "\n",
        "# Building a list of Keywords\n",
        "import nltk\n",
        "nltk.download('wordnet')\n",
        "\n",
        "list_words=['hello','timings','deposit','balance','credit']\n",
        "#added keyword are deposit,balance,credit\n",
        "\n",
        "\n",
        "\n",
        "list_syn={}\n",
        "for word in list_words:\n",
        "    synonyms=[]\n",
        "    for syn in wordnet.synsets(word):\n",
        "        for lem in syn.lemmas():\n",
        "            \n",
        "            # Remove any special characters from synonym strings\n",
        "            lem_name = re.sub('[^a-zA-Z0-9 \\n\\.]', ' ', lem.name())\n",
        "            synonyms.append(lem_name)\n",
        "   \n",
        "    list_syn[word]=set(synonyms)\n",
        "    \n",
        "print (list_syn)\n",
        "\n",
        "\n",
        "\n",
        "\n",
        "# Building dictionary of Intents & Keywords\n",
        "keywords={}\n",
        "keywords_dict={}\n",
        "\n",
        "# Defining a new key in the keywords dictionary\n",
        "keywords['greet']=[]\n",
        "\n",
        "# Populating the values in the keywords dictionary with synonyms of keywords formatted with RegEx metacharacters \n",
        "for synonym in list(list_syn['hello']):\n",
        "    keywords['greet'].append('.*\\\\b'+synonym+'\\\\b.*')\n",
        " \n",
        "# Defining a new key in the keywords dictionary\n",
        "keywords['timings']=[]\n",
        "\n",
        "# Populating the values in the keywords dictionary with synonyms of keywords formatted with RegEx metacharacters \n",
        "for synonym in list(list_syn['timings']):\n",
        "    keywords['timings'].append('.*\\\\b'+synonym+'\\\\b.*')\n",
        "\n",
        "\n",
        "\n",
        "# Added new keywords\n",
        "keywords['transfer']=[]\n",
        "\n",
        "# Populating the values in the keywords dictionary with synonyms of keywords formatted with RegEx metacharacters \n",
        "for synonym in list(list_syn['deposit']):\n",
        "    keywords['transfer'].append('.*\\\\b'+synonym+'\\\\b.*')\n",
        "\n",
        "keywords['maintaining balance']=[]\n",
        "\n",
        "# Populating the values in the keywords dictionary with synonyms of keywords formatted with RegEx metacharacters \n",
        "for synonym in list(list_syn['balance']):\n",
        "    keywords['maintaining balance'].append('.*\\\\b'+synonym+'\\\\b.*')\n",
        "    \n",
        "\n",
        "\n",
        "    keywords['credit card']=[]\n",
        "\n",
        "# Populating the values in the keywords dictionary with synonyms of keywords formatted with RegEx metacharacters \n",
        "for synonym in list(list_syn['credit']):\n",
        "    keywords['credit card'].append('.*\\\\b'+synonym+'\\\\b.*')\n",
        " \n",
        "for intent, keys in keywords.items():\n",
        "    \n",
        "    # Joining the values in the keywords dictionary with the OR (|) operator updating them in keywords_dict dictionary\n",
        "    keywords_dict[intent]=re.compile('|'.join(keys))\n",
        "print (keywords_dict)\n",
        "\n",
        "\n",
        "\n",
        "\n",
        "# Building a dictionary of responses\n",
        "responses={\n",
        "    'greet':'Hello! How can I help you?',\n",
        "    'timings':'We are open from 9AM to 5PM, Monday to Friday. We are closed on weekends and public holidays.',\n",
        "    'ask': 'How can I open a bank account?.',\n",
        "    'fallback':'I dont quite understand. Could you repeat that?',\n",
        "\n",
        "#ADDED responses   \n",
        "    'transfer':'When you deposit cash at a bank or credit union, you typically need to use a deposit slip. Thats simply a slip of paper that tells the teller where to put the money. Write your name and account number on the deposit slip (deposit slips are usually available at the lobby or drive-through).',\n",
        "    'maintaining balance': 'Falling Below Minimum Balance Fee will be collected if account falls below the required minimum MADB for two consecutive months. Account Dormancy Fee will be collected if account is dormant and falls below the minimum MADB. A savings account is dormant if it has no client-initiated activity for two (2) years.',\n",
        "    'credit card': 'Experience the easiest way to qualify for a Credit Card!Click Proceed to get started with your application.Complete the application form and submit the required documents.Wait for a call within three (3) banking days to confirm your application.'\n",
        "    }\n",
        "\n",
        "print (\"Welcome to MyBank. How may I help you?\")\n",
        "\n",
        "# While loop to run the chatbot indefinetely\n",
        "while (True):  \n",
        "    \n",
        "    # Takes the user input and converts all characters to lowercase\n",
        "    user_input = input().lower()\n",
        "    \n",
        "    # Defining the Chatbot's exit condition\n",
        "    if user_input == 'quit': \n",
        "        print (\"Thank you for visiting.\")\n",
        "        break    \n",
        "    \n",
        "    matched_intent = None \n",
        "    \n",
        "    for intent,pattern in keywords_dict.items():\n",
        "        \n",
        "        # Using the regular expression search function to look for keywords in user input\n",
        "        if re.search(pattern, user_input): \n",
        "            \n",
        "            # if a keyword matches, select the corresponding intent from the keywords_dict dictionary\n",
        "            matched_intent=intent  \n",
        "    \n",
        "    # The fallback intent is selected by default\n",
        "    key='fallback' \n",
        "    if matched_intent in responses:\n",
        "        \n",
        "        # If a keyword matches, the fallback intent is replaced by the matched intent as the key for the responses dictionary\n",
        "        key = matched_intent \n",
        "    \n",
        "    # The chatbot prints the response that matches the selected intent\n",
        "    print (responses[key])"
      ],
      "execution_count": 1,
      "outputs": [
        {
          "output_type": "stream",
          "text": [
            "[nltk_data] Downloading package wordnet to /root/nltk_data...\n",
            "[nltk_data]   Unzipping corpora/wordnet.zip.\n",
            "{'hello': {'hello', 'hi', 'hullo', 'howdy', 'how do you do'}, 'timings': {'clock', 'timing', 'time'}, 'deposit': {'sedimentation', 'lodge', 'sediment', 'wedge', 'down payment', 'posit', 'depositary', 'deposit', 'alluviation', 'deposition', 'repository', 'bank', 'stick', 'fix', 'bank deposit', 'situate', 'depository'}, 'balance': {'Balance', 'equilibrium', 'Libra', 'equaliser', 'equipoise', 'rest', 'correspondence', 'equilibrize', 'remainder', 'proportionality', 'residual', 'residuum', 'Libra the Scales', 'symmetry', 'balance', 'symmetricalness', 'equalizer', 'counterpoise', 'counterbalance', 'equilibrate', 'counterweight', 'poise', 'Libra the Balance', 'residue', 'balance wheel', 'equilibrise', 'proportion'}, 'credit': {'credit entry', 'cite', 'acknowledgment', 'quotation', 'credit', 'accredit', 'course credit', 'credit rating', 'recognition', 'deferred payment', 'mention', 'reference', 'citation'}}\n",
            "{'greet': re.compile('.*\\\\bhello\\\\b.*|.*\\\\bhi\\\\b.*|.*\\\\bhullo\\\\b.*|.*\\\\bhowdy\\\\b.*|.*\\\\bhow do you do\\\\b.*'), 'timings': re.compile('.*\\\\bclock\\\\b.*|.*\\\\btiming\\\\b.*|.*\\\\btime\\\\b.*'), 'transfer': re.compile('.*\\\\bsedimentation\\\\b.*|.*\\\\blodge\\\\b.*|.*\\\\bsediment\\\\b.*|.*\\\\bwedge\\\\b.*|.*\\\\bdown payment\\\\b.*|.*\\\\bposit\\\\b.*|.*\\\\bdepositary\\\\b.*|.*\\\\bdeposit\\\\b.*|.*\\\\balluviation\\\\b.*|.*\\\\bdeposition\\\\b.*|.*\\), 'maintaining balance': re.compile('.*\\\\bBalance\\\\b.*|.*\\\\bequilibrium\\\\b.*|.*\\\\bLibra\\\\b.*|.*\\\\bequaliser\\\\b.*|.*\\\\bequipoise\\\\b.*|.*\\\\brest\\\\b.*|.*\\\\bcorrespondence\\\\b.*|.*\\\\bequilibrize\\\\b.*|.*\\\\bremainder\\\\b.*|.*\\\\bproportionality\\), 'credit card': re.compile('.*\\\\bcredit entry\\\\b.*|.*\\\\bcite\\\\b.*|.*\\\\backnowledgment\\\\b.*|.*\\\\bquotation\\\\b.*|.*\\\\bcredit\\\\b.*|.*\\\\baccredit\\\\b.*|.*\\\\bcourse credit\\\\b.*|.*\\\\bcredit rating\\\\b.*|.*\\\\brecognition\\\\b.*|.*\\\\bdefer)}\n",
            "Welcome to MyBank. How may I help you?\n",
            "hi\n",
            "Hello! How can I help you?\n",
            "time\n",
            "We are open from 9AM to 5PM, Monday to Friday. We are closed on weekends and public holidays.\n",
            "deposit\n",
            "When you deposit cash at a bank or credit union, you typically need to use a deposit slip. Thats simply a slip of paper that tells the teller where to put the money. Write your name and account number on the deposit slip (deposit slips are usually available at the lobby or drive-through).\n",
            "balance\n",
            "Falling Below Minimum Balance Fee will be collected if account falls below the required minimum MADB for two consecutive months. Account Dormancy Fee will be collected if account is dormant and falls below the minimum MADB. A savings account is dormant if it has no client-initiated activity for two (2) years.\n",
            "credit\n",
            "Experience the easiest way to qualify for a Credit Card!Click Proceed to get started with your application.Complete the application form and submit the required documents.Wait for a call within three (3) banking days to confirm your application.\n",
            "quit\n",
            "Thank you for visiting.\n"
          ],
          "name": "stdout"
        }
      ]
    },
    {
      "cell_type": "code",
      "metadata": {
        "id": "PWPzwIfwx56H"
      },
      "source": [
        ""
      ],
      "execution_count": null,
      "outputs": []
    },
    {
      "cell_type": "code",
      "metadata": {
        "id": "k0cNgLzmqyCx"
      },
      "source": [
        ""
      ],
      "execution_count": null,
      "outputs": []
    }
  ]
}